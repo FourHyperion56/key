{
 "cells": [
  {
   "cell_type": "markdown",
   "metadata": {},
   "source": [
    "**Calculation of the Total Energy of the System**\n",
    "\n",
    "Uses a Lennard Jones Potential to Calculate the Total Energy of a System of Atoms. \n",
    "\n",
    "Authors: Sammy Tribble, Isaac Perez"
   ]
  },
  {
   "cell_type": "code",
   "execution_count": 184,
   "metadata": {},
   "outputs": [],
   "source": [
    "import pandas as pd\n",
    "import numpy as np"
   ]
  },
  {
   "cell_type": "code",
   "execution_count": 185,
   "metadata": {},
   "outputs": [],
   "source": [
    "def absolute_Distance(coords_1, coords_2):\n",
    "    \"\"\"\n",
    "    Calculates the distance between 2 points\n",
    "\n",
    "    Input: \n",
    "    coords_1 (list): The coordinates to point 1\n",
    "    coords_2 (list): The coordinates to point 2\n",
    "\n",
    "    Returns: \n",
    "    int: The distance between point 1 and point 2\n",
    "\n",
    "    \"\"\"\n",
    "    dist = np.sqrt((coords_2[0] - coords_1[0])**2 + (coords_2[1] - coords_1[1])**2 + (coords_2[2] - coords_1[2])**2)\n",
    "    return dist"
   ]
  },
  {
   "cell_type": "markdown",
   "metadata": {},
   "source": [
    "**Lennard Jones PE**\n",
    "\n",
    "This function will be used to calculate the Lennard Jones PE between atoms 1 and 2. "
   ]
  },
  {
   "cell_type": "code",
   "execution_count": 189,
   "metadata": {},
   "outputs": [],
   "source": [
    "def lennard_Jones_PE(atom1, atom2):\n",
    "    \"\"\"\n",
    "    Calculates the pontential energy between 2 atoms. \n",
    "\n",
    "    Parameters:\n",
    "    atom1 (list): The coords of atom 1\n",
    "    atom2 (list): The coords of atom 2\n",
    "\n",
    "    Returns:\n",
    "    float: The potential energy between atom 1 and atom 2\n",
    "\n",
    "    \"\"\"\n",
    "\n",
    "    r = absolute_Distance(atom1, atom2)\n",
    "    U = 4*((1/r)**12 - (1/r)**6)\n",
    "    return U"
   ]
  },
  {
   "cell_type": "markdown",
   "metadata": {},
   "source": [
    "**Update Pairwise Interaction Matrix**\n",
    "\n",
    "This function can be used to calculate the pairwise interaction between each atom"
   ]
  },
  {
   "cell_type": "code",
   "execution_count": 190,
   "metadata": {},
   "outputs": [],
   "source": [
    "def update_pairwiseInt(natom, coords):\n",
    "    \"\"\"\n",
    "    Update the pairwise interaction matrix of the system based on the \n",
    "    curent position of the particles. \n",
    "\n",
    "    Parameters: \n",
    "    natom (int): The number of atoms in the system.\n",
    "    coords (numpy.ndarray): An Nx3 matrix storing the position of each particle. \n",
    "\n",
    "    Returns: \n",
    "    N/A\n",
    "    \n",
    "    \"\"\"\n",
    "\n",
    "\n",
    "    for i in range(natom):\n",
    "        # Grab the row'th atom in the position matrix\n",
    "        atom1 = coords[i]\n",
    "        for j in range(i, natom):\n",
    "            # Check if we are calculating U_ii. If we are, leave it as 0\n",
    "            if i == j:\n",
    "                pass\n",
    "            else:\n",
    "                atom2 = coords[j]\n",
    "                pairwiseInt[i][j] = lennard_Jones_PE(atom1, atom2)\n",
    "                pairwiseInt[j][i] = lennard_Jones_PE(atom1, atom2)\n",
    "    return "
   ]
  },
  {
   "cell_type": "code",
   "execution_count": null,
   "metadata": {},
   "outputs": [],
   "source": [
    "def tot_Energy(natom, pairwise_int):\n",
    "    \"\"\"\n",
    "    Calculate the total energy of a system based on pairwise interactions.\n",
    "\n",
    "    Parameters:\n",
    "    natom (int): The number of atoms in the system.\n",
    "    pairwise_int (numpy.ndarray): An NxN matrix storing the pairwise interaction of each particle.\n",
    "\n",
    "    Returns:\n",
    "    float: The total energy of the system in reduced units.\n",
    "    \"\"\"\n",
    "    tot_energy = 0\n",
    "    for i in range(natom):\n",
    "        for j in range(i, natom):\n",
    "            tot_energy += pairwise_int[i][j]\n",
    "    return tot_energy\n"
   ]
  },
  {
   "cell_type": "markdown",
   "metadata": {},
   "source": [
    "**Specify the cluster size: N**\n",
    "\n",
    "Here, specify the size, N, of the LJ cluster you want to analyze.\n",
    "Download the corresponding file, which contains the xyz coordinates of\n",
    "each atom in this size-N cluster."
   ]
  },
  {
   "cell_type": "code",
   "execution_count": 186,
   "metadata": {},
   "outputs": [],
   "source": [
    "import requests\n",
    "\n",
    "natom = input(\"Specify cluster size: \")\n",
    "natom = int(natom)\n",
    "\n",
    "# N > 151 or N < 2 are inaccessible\n",
    "while natom > 150 or natom < 3:\n",
    "    N = input(\"Specify a cluster size less than or equal to 150 and greater than or equal to 3: \") \n",
    "    natom = int(natom)\n",
    "\n",
    "# URL of the file you want to download\n",
    "url = f\"http://doye.chem.ox.ac.uk/jon/structures/LJ/points/{natom}\"\n",
    "\n",
    "# send a GET request to the URL\n",
    "response = requests.get(url)\n",
    "\n",
    "# specify the path where the file will be saved\n",
    "file_name = f\"LJ_cluster_size_{N}.txt\"\n",
    "file_path = f\"C:\\\\Users\\\\mrmuf\\\\OneDrive\\\\Desktop\\\\chem193\\\\{file_name}\"\n",
    "\n",
    "# save the file\n",
    "with open(file_path, \"wb\") as file:\n",
    "    file.write(response.content)"
   ]
  },
  {
   "cell_type": "markdown",
   "metadata": {},
   "source": [
    "**Create a list of every atom's xyz coordinates**\n",
    "\n",
    "Next, we'll clean the .txt of whitespace, and format it for use as a dataframe object - we'll store its contents in a 'raw list' of unformatted coordinates.\n",
    "\n",
    "Then, we'll segment every 3 coordinates into lists, which each represent an atom - every element will represent one atom's x-, y-, and z-coordinates."
   ]
  },
  {
   "cell_type": "code",
   "execution_count": null,
   "metadata": {},
   "outputs": [],
   "source": [
    "### Implementation - scraping coords into a list ###\n",
    "list_of_atom_coords = [] # raw list of unsegmented atom coords\n",
    "with open(file_path) as file:\n",
    "    text   = file.read()\n",
    "    coords = text.split()\n",
    "    for coord in coords:\n",
    "        list_of_atom_coords.append(coord)\n",
    "    # print(list_of_atom_coords)\n",
    "\n",
    "formatted_coords = [] # formatted list of coords ~ each atom\n",
    "for coord in list_of_atom_coords:\n",
    "    coords_len = len(list_of_atom_coords)\n",
    "    formatted_coords = [list_of_atom_coords[i: i + 3] for i in range(0, coords_len, 3)] # split every 3 coords into a list for one atom\n",
    "print(formatted_coords)\n",
    "\n",
    "# convert all coords to float for all N atoms (N = len(formatted_coords))\n",
    "for i in range(len(formatted_coords)):\n",
    "    formatted_coords[i] = list(map(float, formatted_coords[i]))"
   ]
  },
  {
   "cell_type": "markdown",
   "metadata": {},
   "source": [
    "**Compute Relative Distances**\n",
    "\n",
    "Then, we'll use absolute_Distance() to compute the relative distances between each atom in the cluster; and store these distances in a list. The matrix storing the pairwise interaction matrix is initialized as all zeros. "
   ]
  },
  {
   "cell_type": "code",
   "execution_count": null,
   "metadata": {},
   "outputs": [],
   "source": [
    "from itertools import combinations\n",
    "\n",
    "distances = []\n",
    "pairwiseInt = np.zeros((natom, natom))\n",
    "# Generate all pairs of atoms & calculate relative distances\n",
    "for (atom1, atom2) in combinations(formatted_coords, 2):\n",
    "    dist = absolute_Distance(atom1, atom2)\n",
    "    distances.append(float(dist))\n",
    "    \n",
    "print(distances)"
   ]
  },
  {
   "cell_type": "code",
   "execution_count": null,
   "metadata": {},
   "outputs": [],
   "source": [
    "update_pairwiseInt(natom, formatted_coords)\n",
    "tot_Energy = tot_Energy(natom, pairwiseInt)\n",
    "print(\"The total energy of this system is\", round(tot_Energy))"
   ]
  }
 ],
 "metadata": {
  "kernelspec": {
   "display_name": "venv",
   "language": "python",
   "name": "python3"
  },
  "language_info": {
   "codemirror_mode": {
    "name": "ipython",
    "version": 3
   },
   "file_extension": ".py",
   "mimetype": "text/x-python",
   "name": "python",
   "nbconvert_exporter": "python",
   "pygments_lexer": "ipython3",
   "version": "3.10.13"
  }
 },
 "nbformat": 4,
 "nbformat_minor": 2
}
