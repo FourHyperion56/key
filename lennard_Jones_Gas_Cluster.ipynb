{
 "cells": [
  {
   "cell_type": "code",
   "execution_count": 163,
   "metadata": {},
   "outputs": [],
   "source": [
    "import pandas as pd\n",
    "import numpy as np"
   ]
  },
  {
   "cell_type": "code",
   "execution_count": 164,
   "metadata": {},
   "outputs": [],
   "source": [
    "# Compute dist between atoms 1 & 2\n",
    "# Inputs: coords_1 - atom 1 coords, coords_2 - atom 2 coords.\n",
    "# Output: dist     - distance btwn atoms 1 & 2\n",
    "def absolute_Distance(coords_1, coords_2):\n",
    "    dist = np.sqrt((coords_2[0] - coords_1[0])**2 + (coords_2[1] - coords_1[1])**2 + (coords_2[2] - coords_1[2])**2)\n",
    "    return dist"
   ]
  },
  {
   "cell_type": "markdown",
   "metadata": {},
   "source": [
    "**Specify the cluster size: N**\n",
    "\n",
    "Here, specify the size, N, of the LJ cluster you want to analyze.\n",
    "Download the corresponding file, which contains the xyz coordinates of\n",
    "each atom in this size-N cluster."
   ]
  },
  {
   "cell_type": "code",
   "execution_count": 165,
   "metadata": {},
   "outputs": [],
   "source": [
    "import requests\n",
    "\n",
    "N = input(\"Specify cluster size: \")\n",
    "N = int(N)\n",
    "\n",
    "# N > 151 or N < 2 are inaccessible\n",
    "while N > 150 or N < 3:\n",
    "    N = input(\"Specify a cluster size less than or equal to 150 and greater than or equal to 3: \") \n",
    "    N = int(N)\n",
    "\n",
    "# URL of the file you want to download\n",
    "url = f\"http://doye.chem.ox.ac.uk/jon/structures/LJ/points/{N}\"\n",
    "\n",
    "# send a GET request to the URL\n",
    "response = requests.get(url)\n",
    "\n",
    "# specify the path where the file will be saved\n",
    "file_name = f\"LJ_cluster_size_{N}.txt\"\n",
    "file_path = f\"C:\\\\Users\\\\mrmuf\\\\OneDrive\\\\Desktop\\\\chem193\\\\{file_name}\"\n",
    "\n",
    "# save the file\n",
    "with open(file_path, \"wb\") as file:\n",
    "    file.write(response.content)"
   ]
  },
  {
   "cell_type": "markdown",
   "metadata": {},
   "source": [
    "**Create a list of every atom's xyz coordinates**\n",
    "\n",
    "Next, we'll clean the .txt of whitespace, and format it for use as a dataframe object - we'll store its contents in a 'raw list' of unformatted coordinates.\n",
    "\n",
    "Then, we'll segment every 3 coordinates into lists, which each represent an atom - every element will represent one atom's x-, y-, and z-coordinates."
   ]
  },
  {
   "cell_type": "code",
   "execution_count": 166,
   "metadata": {},
   "outputs": [],
   "source": [
    "### Implementation - scraping coords into a list ###\n",
    "list_of_atom_coords = [] # raw list of unsegmented atom coords\n",
    "with open(file_name) as file:\n",
    "    text   = file.read()\n",
    "    coords = text.split()\n",
    "    for coord in coords:\n",
    "        list_of_atom_coords.append(coord)\n",
    "    # print(list_of_atom_coords)\n",
    "\n",
    "formatted_coords = [] # formatted list of coords ~ each atom\n",
    "for coord in list_of_atom_coords:\n",
    "    coords_len = len(list_of_atom_coords)\n",
    "    formatted_coords = [list_of_atom_coords[i: i + 3] for i in range(0, coords_len, 3)] # split every 3 coords into a list for one atom\n",
    "# print(formatted_coords)\n",
    "\n",
    "# convert all coords to float for all N atoms (N = len(formatted_coords))\n",
    "for i in range(len(formatted_coords)):\n",
    "    formatted_coords[i] = list(map(float, formatted_coords[i]))"
   ]
  },
  {
   "cell_type": "markdown",
   "metadata": {},
   "source": [
    "**Compute Relative Distances**\n",
    "\n",
    "Then, we'll use absolute_Distance() to compute the relative distances between each atom in the cluster; and store these distances in a list."
   ]
  },
  {
   "cell_type": "code",
   "execution_count": 167,
   "metadata": {},
   "outputs": [
    {
     "name": "stdout",
     "output_type": "stream",
     "text": [
      "[1.1224620329352735, 1.122461797373606, 1.1224619698139453]\n"
     ]
    }
   ],
   "source": [
    "from itertools import combinations\n",
    "\n",
    "distances = []\n",
    "\n",
    "# Generate all pairs of atoms & calculate relative distances\n",
    "for (atom1, atom2) in combinations(formatted_coords, 2):\n",
    "    dist = absolute_Distance(atom1, atom2)\n",
    "    distances.append(float(dist))\n",
    "    \n",
    "print(distances)"
   ]
  },
  {
   "cell_type": "code",
   "execution_count": 168,
   "metadata": {},
   "outputs": [],
   "source": [
    "# Inputs: x1 and x2 are lists that contains the x, y, and z coordinates of an atom\n",
    "def lennard_Jones_PE(atom1, atom2):\n",
    "    pass"
   ]
  },
  {
   "cell_type": "code",
   "execution_count": 169,
   "metadata": {},
   "outputs": [],
   "source": [
    "def tot_Energy():\n",
    "    pass"
   ]
  }
 ],
 "metadata": {
  "kernelspec": {
   "display_name": "venv",
   "language": "python",
   "name": "python3"
  },
  "language_info": {
   "codemirror_mode": {
    "name": "ipython",
    "version": 3
   },
   "file_extension": ".py",
   "mimetype": "text/x-python",
   "name": "python",
   "nbconvert_exporter": "python",
   "pygments_lexer": "ipython3",
   "version": "3.9.13"
  }
 },
 "nbformat": 4,
 "nbformat_minor": 2
}
