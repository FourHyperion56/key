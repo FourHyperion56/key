{
 "cells": [
  {
   "cell_type": "code",
   "execution_count": 2,
   "metadata": {},
   "outputs": [],
   "source": [
    "import numpy as np\n",
    "import pandas as pd\n",
    "\n",
    "# Initialization of the pairwise interaction array full of zeros\n",
    "pIntMatrix = np.zeros((N, N))"
   ]
  },
  {
   "cell_type": "code",
   "execution_count": null,
   "metadata": {},
   "outputs": [],
   "source": [
    "# 3\n",
    "def absolute_Distance(coords_1, coords_2):\n",
    "    dist = np.sqrt((coords_2[1] - coords_1[1])**2 + (coords_2[2] - coords_1[2])**2 + (coords_2[3] - coords_1[3])**2)\n",
    "    return dist"
   ]
  },
  {
   "cell_type": "code",
   "execution_count": null,
   "metadata": {},
   "outputs": [],
   "source": [
    "# Inputs: x1 and x2 are lists that contains the x, y, and z coordinates of an atom\n",
    "def lennard_Jones_PE(atom1, atom2):\n",
    "    r = absolute_Distance(atom1, atom2)\n",
    "    U = 4*((1/r)**12 - (1/r)**6)\n",
    "    return U"
   ]
  },
  {
   "cell_type": "code",
   "execution_count": null,
   "metadata": {},
   "outputs": [],
   "source": [
    "# I need to the number of atoms and the coords of the atoms \n",
    "# in the system to fill the pairwise interaction matrix. \n",
    "# Note, symmetry is taken into account. \n",
    "def update_pairwiseInt(natom, coords): \n",
    "    for i in range(natom):\n",
    "        # Grab the row'th atom in the position matrix\n",
    "        atom1 = positionMatrix[i]\n",
    "        for j in range(i, natom):\n",
    "            # Check if we are calculating U_ii. If we are, leave as 0\n",
    "            if i == j:\n",
    "                return \n",
    "            else:\n",
    "                atom2 = positionMatrix[j]\n",
    "                pIntMatrix[i][j] = lennard_Jones_PE(atom1, atom2)\n",
    "                pIntMatrix[j][i] = lennard_Jones_PE(atom1, atom2)\n",
    "    return "
   ]
  },
  {
   "cell_type": "code",
   "execution_count": null,
   "metadata": {},
   "outputs": [],
   "source": [
    "def tot_Energy(natom):\n",
    "    tot_Energy = 0\n",
    "    for i in range(natom):\n",
    "        for j in range(i, natom):\n",
    "            tot_Energy += pIntMatrix[i][j]\n",
    "    return tot_Energy\n",
    "    \n"
   ]
  }
 ],
 "metadata": {
  "kernelspec": {
   "display_name": "venv",
   "language": "python",
   "name": "python3"
  },
  "language_info": {
   "codemirror_mode": {
    "name": "ipython",
    "version": 3
   },
   "file_extension": ".py",
   "mimetype": "text/x-python",
   "name": "python",
   "nbconvert_exporter": "python",
   "pygments_lexer": "ipython3",
   "version": "3.10.13"
  }
 },
 "nbformat": 4,
 "nbformat_minor": 2
}
